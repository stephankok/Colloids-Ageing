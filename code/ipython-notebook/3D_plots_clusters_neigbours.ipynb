{
 "cells": [
  {
   "cell_type": "code",
   "execution_count": 1,
   "metadata": {
    "collapsed": false,
    "scrolled": true
   },
   "outputs": [
    {
     "name": "stdout",
     "output_type": "stream",
     "text": [
      "Loading\n",
      "Resolution and Frames:  {'y': 1024, 'z': 40, 't': 180, 'x': 1024}\n",
      "finished loading\n"
     ]
    }
   ],
   "source": [
    "LOC = \"C:\\\\Users\\\\Stephan\\\\Desktop\\\\20160606_mg_4_4_2.mdb\\\\\"\n",
    "FILE = \"31deg_long_measure_0906.lsm\"\n",
    "\n",
    "import pims\n",
    "import matplotlib.pyplot as plt\n",
    "import matplotlib as mpl\n",
    "import numpy as np\n",
    "import trackpy as tp\n",
    "\n",
    "# Load image\n",
    "def load_image(location):\n",
    "    print(\"Loading\")\n",
    "    frames = pims.Bioformats(location);\n",
    "    frames.bundle_axes = ['z', 'y', 'x']\n",
    "    frames.iter_axes = 't'\n",
    "    print(\"Resolution and Frames: \", frames.sizes)\n",
    "    print(\"finished loading\")\n",
    "    return frames\n",
    "    \n",
    "image = load_image(LOC + FILE)"
   ]
  },
  {
   "cell_type": "code",
   "execution_count": 2,
   "metadata": {
    "collapsed": false
   },
   "outputs": [],
   "source": [
    "class particle_class():\n",
    "\n",
    "    def __init__(self, Id, xpos, ypos, zpos):\n",
    "        self.identity = Id\n",
    "        self.posx = xpos\n",
    "        self.posy = ypos\n",
    "        self.posz = zpos\n",
    "        self.neigbour_list = []\n",
    "\n",
    "    def get_x(self):\n",
    "        return self.posx\n",
    "    def get_y(self):\n",
    "        return self.posy\n",
    "    def get_z(self):\n",
    "        return self.posz\n",
    "\n",
    "    def add_neigbour(self, neigbour):\n",
    "        self.neigbour_list.append(neigbour)\n",
    "\n",
    "    def get_neigbour(self):\n",
    "        return self.neigbour_list\n",
    "    \n",
    "    def get_id(self):\n",
    "        return self.identity\n",
    "    "
   ]
  },
  {
   "cell_type": "code",
   "execution_count": null,
   "metadata": {
    "collapsed": false
   },
   "outputs": [],
   "source": [
    "print(\"show raw image\")\n",
    "plt.imshow(image[0][0], cmap=plt.cm.gray)\n",
    "plt.show()"
   ]
  },
  {
   "cell_type": "code",
   "execution_count": null,
   "metadata": {
    "collapsed": false
   },
   "outputs": [],
   "source": [
    "print(\"bandpass\")\n",
    "def bandpass(image):  \n",
    "    '''\n",
    "    Firt do banpass then normalize.\n",
    "    '''\n",
    "    \n",
    "    raw_frame = image.astype(float)\n",
    "    \n",
    "    bandpass = tp.bandpass(raw_frame,lshort=1,llong=10)\n",
    "\n",
    "    return bandpass\n",
    "\n",
    "new_image = bandpass(image[179])\n",
    "#plt.figure()\n",
    "#plt.imshow(new_image[0], cmap=plt.cm.gray)\n",
    "\n",
    "#print(\"show raw image\")\n",
    "#plt.figure()\n",
    "#plt.imshow(image[0][0], cmap=plt.cm.gray)\n",
    "#plt.show()"
   ]
  },
  {
   "cell_type": "code",
   "execution_count": null,
   "metadata": {
    "collapsed": false
   },
   "outputs": [],
   "source": [
    "print(\"locate\")\n",
    "#features = tp.locate(image[0], diameter=(7, 7, 5), noise_size=2,smoothing_size=(5,5,4),minmass=500)\n",
    "features = tp.locate(new_image, diameter=(5, 5, 3),minmass=500, noise_size=1)\n",
    "print(\"done\")"
   ]
  },
  {
   "cell_type": "code",
   "execution_count": null,
   "metadata": {
    "collapsed": false
   },
   "outputs": [],
   "source": [
    "tp.subpx_bias(features)\n",
    "plt.show()\n",
    "print('Features gevonden: {0}'.format(len(features)))"
   ]
  },
  {
   "cell_type": "code",
   "execution_count": null,
   "metadata": {
    "collapsed": false
   },
   "outputs": [],
   "source": [
    "print(\"checking if locating went well\")\n",
    "from pylab import rcParams\n",
    "rcParams['figure.figsize'] = 30, 30\n",
    "tp.annotate3d(features, new_image)"
   ]
  },
  {
   "cell_type": "code",
   "execution_count": null,
   "metadata": {
    "collapsed": false
   },
   "outputs": [],
   "source": [
    "plt.figure()\n",
    "tp.subpx_bias(features)\n",
    "plt.show()"
   ]
  },
  {
   "cell_type": "code",
   "execution_count": null,
   "metadata": {
    "collapsed": false
   },
   "outputs": [],
   "source": [
    "plt.figure()\n",
    "plt.hist(features['mass'], bins = 100)\n",
    "plt.show()"
   ]
  },
  {
   "cell_type": "code",
   "execution_count": null,
   "metadata": {
    "collapsed": false
   },
   "outputs": [],
   "source": [
    "print(\"checking if locating went well\")\n",
    "#from pylab import rcParams\n",
    "#rcParams['figure.figsize'] = 50, 50\n",
    "print('found ' + str(len(features)))\n",
    "\n",
    "tp.annotate3d(features, image[0])"
   ]
  },
  {
   "cell_type": "code",
   "execution_count": null,
   "metadata": {
    "collapsed": false
   },
   "outputs": [],
   "source": [
    "features.head()"
   ]
  },
  {
   "cell_type": "code",
   "execution_count": null,
   "metadata": {
    "collapsed": false
   },
   "outputs": [],
   "source": [
    "test = features[features['z']>25]\n",
    "test"
   ]
  },
  {
   "cell_type": "code",
   "execution_count": null,
   "metadata": {
    "collapsed": false
   },
   "outputs": [],
   "source": [
    "print(\"Rezise particles radius\")\n",
    "features['z'] = (features['z'])*0.6\n",
    "features['x'] = (features['x'] / 1024)*105.77\n",
    "features['y'] = (features['y'] / 1024)*105.77"
   ]
  },
  {
   "cell_type": "code",
   "execution_count": null,
   "metadata": {
    "collapsed": false
   },
   "outputs": [],
   "source": [
    "#features_test = features[features['x'] < 10]\n",
    "#features_test = features[features['z'] < 5]\n",
    "features_test = features\n",
    "\n",
    "\n",
    "import math\n",
    "yas = []\n",
    "xas = []\n",
    "zas = []\n",
    "middle_of_found_x = []\n",
    "middle_of_found_y = []\n",
    "middle_of_found_z = []\n",
    "\n",
    "global cutoff\n",
    "cutoff = 0.1\n",
    "\n",
    "print(\"new list\")\n",
    "for index, row in features_test.iterrows():\n",
    "    yas.append(row['y'])\n",
    "    xas.append(row['x'])    #xas[i]=1    #f.ix[i]['x']\n",
    "    zas.append(row['z'])\n",
    "\n",
    "\n",
    "max_found = 0\n",
    "min_found = 99\n",
    "total = 0.0\n",
    "print(\"calculate connectivity\")\n",
    "looprange = len(yas)\n",
    "print(looprange)\n",
    "\n",
    "for j in range(looprange):\n",
    "    if (j % 500 == 1):\n",
    "        print(j)\n",
    "    found = 0     \n",
    "    \n",
    "    # first find all neigbours\n",
    "    for i in range(looprange):\n",
    "        t=math.pow(yas[j]-yas[i],2)+math.pow(xas[j]-xas[i],2)\n",
    "\n",
    "        # dont add yourself as neigbour\n",
    "        if(math.sqrt(t) < cutoff and t != 0):\n",
    "            found += 1\n",
    "            if(found > max_found):\n",
    "                max_found = found\n",
    "            middle_of_found_x.append((xas[j]-xas[i])/2+xas[i])\n",
    "            middle_of_found_y.append((yas[j]-yas[i])/2+yas[i]) \n",
    "            middle_of_found_z.append((zas[j]-zas[i])/2+zas[i])\n",
    "\n",
    "    if(min_found > found):\n",
    "        min_found = found\n",
    "    total += found\n",
    "\n",
    "print(\"done\")    "
   ]
  },
  {
   "cell_type": "code",
   "execution_count": null,
   "metadata": {
    "collapsed": false
   },
   "outputs": [],
   "source": [
    "print(max_found)\n",
    "print(min_found)"
   ]
  },
  {
   "cell_type": "code",
   "execution_count": null,
   "metadata": {
    "collapsed": false
   },
   "outputs": [],
   "source": [
    "from mpl_toolkits.mplot3d import Axes3D\n",
    "\n",
    "fig = plt.figure()\n",
    "ax = fig.add_subplot(111, projection='3d')\n",
    "n = 100\n",
    "xs = features_test['x']\n",
    "ys = features_test['y']\n",
    "zs = features_test['z']\n",
    "ax.scatter(xs, ys, zs, s=200, c='b', marker='.')\n",
    "\n",
    "#xs = middle_of_found_x\n",
    "#ys = middle_of_found_y\n",
    "#zs = middle_of_found_z\n",
    "#ax.scatter(xs, ys, zs, c='r', marker='x')\n",
    "\n",
    "\n",
    "ax.set_xlabel('X Label')\n",
    "ax.set_ylabel('Y Label')\n",
    "ax.set_zlabel('Z Label')\n",
    "\n",
    "plt.show()\n"
   ]
  },
  {
   "cell_type": "code",
   "execution_count": null,
   "metadata": {
    "collapsed": false
   },
   "outputs": [],
   "source": [
    "\"\"\"\n",
    "Connectivity of particles using the particles class\n",
    "\n",
    "Asumes the particles are seperated by read distance (in micro meters)\n",
    "\"\"\"\n",
    "#features_test = features[features['x'] < 10]\n",
    "#features_test = features[features['z'] < 3.4]\n",
    "features_test = features\n",
    "\n",
    "import math\n",
    "\n",
    "global cutoff\n",
    "cutoff = 7.0 # micro meters\n",
    "\n",
    "print(\"Create particles\")\n",
    "particles = []\n",
    "for index, row in features_test.iterrows():\n",
    "    newparticle = particle_class(index, row['x'], row['y'], row['z'])\n",
    "    particles.append(newparticle)\n",
    "\n",
    "print(\"calculate connectivity\")\n",
    "print(len(particles))\n",
    "\n",
    "total = 0\n",
    "# loop over all particles\n",
    "for particle in particles:      \n",
    "    # first find all neigbours\n",
    "    for neigbour in particles:  \n",
    "        # dont add yourself as neibour\n",
    "        if (neigbour.get_id() != particle.get_id()):            \n",
    "            distance = math.pow(particle.get_x() - neigbour.get_x(),2) + math.pow(particle.get_y() - neigbour.get_y(),2) + math.pow(particle.get_z() - neigbour.get_z(),2)\n",
    "            if(math.sqrt(distance) < cutoff):\n",
    "                particle.add_neigbour(neigbour)\n",
    "                total+=1\n",
    "print(total)\n",
    "print(\"********done************\")"
   ]
  },
  {
   "cell_type": "code",
   "execution_count": null,
   "metadata": {
    "collapsed": false
   },
   "outputs": [],
   "source": [
    "print(min_found)2648\n",
    "print(max_found)37636\n",
    "print(total)"
   ]
  },
  {
   "cell_type": "code",
   "execution_count": null,
   "metadata": {
    "collapsed": false
   },
   "outputs": [],
   "source": [
    "from mpl_toolkits.mplot3d import Axes3D\n",
    "\n",
    "fig = plt.figure()\n",
    "ax = fig.add_subplot(111, projection='3d')\n",
    "n = 100\n",
    "\n",
    "xs = []\n",
    "ys = []\n",
    "zs = []\n",
    "for p in particles:\n",
    "    xs.append(p.get_x())\n",
    "    ys.append(p.get_y())\n",
    "    zs.append(p.get_z())\n",
    "ax.scatter(xs, ys, zs, s=500, c='b', marker='.')\n",
    "\n",
    "#xs = middle_of_found_x\n",
    "#ys = middle_of_found_y\n",
    "#zs = middle_of_found_z\n",
    "\n",
    "mx = []\n",
    "my = []\n",
    "mz = []\n",
    "for p in particles:\n",
    "    neigbours = p.get_neigbour()\n",
    "    for n in neigbours:\n",
    "        mx.append( ((n.get_x() - p.get_x()) / 2 ) + p.get_x())\n",
    "        my.append( ((n.get_y() - p.get_y()) / 2 ) + p.get_y())\n",
    "        mz.append( ((n.get_z() - p.get_z()) / 2 ) + p.get_z())\n",
    "ax.scatter(mx, my, mz, s=100, c='r', marker='x')\n",
    "\n",
    "\n",
    "ax.set_xlabel('X Label')\n",
    "ax.set_ylabel('Y Label')\n",
    "ax.set_zlabel('Z Label')\n",
    "print(\"done\")\n",
    "plt.show()"
   ]
  },
  {
   "cell_type": "code",
   "execution_count": null,
   "metadata": {
    "collapsed": false
   },
   "outputs": [],
   "source": [
    "\"\"\"\n",
    "plot neigbours with random colors\n",
    "warning ovwrite neibours colors\n",
    "\"\"\"\n",
    "\n",
    "from mpl_toolkits.mplot3d import Axes3D\n",
    "import matplotlib.colors as colors\n",
    "import random\n",
    "\n",
    "fig = plt.figure()\n",
    "ax = fig.add_subplot(111, projection='3d')\n",
    "n = 100\n",
    "\n",
    "prev = []\n",
    "for p in particles:\n",
    "    if p.get_id() not in prev:\n",
    "        xs = []\n",
    "        ys = []\n",
    "        zs = []\n",
    "        prev.append(p.get_id())\n",
    "\n",
    "        neigbours = p.get_neigbour()\n",
    "        xs.append(p.get_x())\n",
    "        ys.append(p.get_y())\n",
    "        zs.append(p.get_z())\n",
    "        for n in neigbours:\n",
    "            if(n.get_id() not in prev):\n",
    "                prev.append(n.get_id())\n",
    "                xs.append( ((n.get_x() - p.get_x()) / 2 ) + p.get_x())\n",
    "                ys.append( ((n.get_y() - p.get_y()) / 2 ) + p.get_y())\n",
    "                zs.append( ((n.get_z() - p.get_z()) / 2 ) + p.get_z())\n",
    "        ax.scatter(xs, ys, zs, s=500, c=random.choice(list(colors.cnames.items()))[1], marker='.')\n",
    "#random.choice(colors.cnames.keys())\n",
    "\n",
    "ax.set_xlabel('X Label')\n",
    "ax.set_ylabel('Y Label')\n",
    "ax.set_zlabel('Z Label')\n",
    "print(\"done\")\n",
    "plt.show()"
   ]
  },
  {
   "cell_type": "code",
   "execution_count": null,
   "metadata": {
    "collapsed": false
   },
   "outputs": [],
   "source": [
    "'''\n",
    "plot all clusters\n",
    "'''\n",
    "import sys\n",
    "sys.setrecursionlimit(10**6)\n",
    "\n",
    "def search(neigbours, xs, ys, zs):\n",
    "    #print(neigbours)\n",
    "    if(len(neigbours) > 0):\n",
    "        for n in neigbours:\n",
    "            if n.get_id() not in prev:\n",
    "                xs.append(n.get_x())\n",
    "                ys.append(n.get_y())\n",
    "                zs.append(n.get_z())\n",
    "                prev.append(n.get_id())\n",
    "                search(n.get_neigbour(), xs, ys, zs)\n",
    "\n",
    "\n",
    "from mpl_toolkits.mplot3d import Axes3D\n",
    "import matplotlib.colors as colors\n",
    "import random\n",
    "\n",
    "fig = plt.figure()\n",
    "ax = fig.add_subplot(111, projection='3d')\n",
    "n = 100\n",
    "\n",
    "prev = []\n",
    "for p in particles:\n",
    "    if p.get_id() not in prev:\n",
    "        xs = []\n",
    "        ys = []\n",
    "        zs = []\n",
    "        prev.append(p.get_id())\n",
    "\n",
    "        xs.append(p.get_x())\n",
    "        ys.append(p.get_y())\n",
    "        zs.append(p.get_z())\n",
    "        search(p.get_neigbour(), xs, ys, zs)\n",
    "        ax.scatter(xs, ys, zs, s=500, c=random.choice(list(colors.cnames.items()))[1], marker='.')\n",
    "#random.choice(colors.cnames.keys())\n",
    "\n",
    "ax.pbaspect = [1.0, 1.0, 105.77 / 20]\n",
    "ax.set_xlabel('X Label')\n",
    "ax.set_ylabel('Y Label')\n",
    "ax.set_zlabel('Z Label')\n",
    "print(\"done\")\n",
    "plt.show()"
   ]
  },
  {
   "cell_type": "code",
   "execution_count": null,
   "metadata": {
    "collapsed": false
   },
   "outputs": [],
   "source": [
    "'''\n",
    "Neigbour cahin\n",
    "'''\n",
    "\n",
    "from mpl_toolkits.mplot3d import Axes3D\n",
    "\n",
    "fig = plt.figure()\n",
    "ax = fig.add_subplot(111, projection='3d')\n",
    "n = 100\n",
    "xs = features['x']\n",
    "ys = features['y']\n",
    "zs = features['z']\n",
    "ax.scatter(xs, ys, zs, s=50, c='b', marker='.')\n",
    "part = particles[1]\n",
    "neigbours = particle.get_neigbour()\n",
    "previous = [part.get_id()]\n",
    "xs = [part.get_x()]\n",
    "ys = [part.get_y()]\n",
    "zs = [part.get_z()]\n",
    "def search(neigbours):\n",
    "    print(neigbours)\n",
    "    if(len(neigbours) > 0):\n",
    "        for n in neigbours:\n",
    "            if n.get_id() not in previous:\n",
    "                xs.append(n.get_x())\n",
    "                ys.append(n.get_y())\n",
    "                zs.append(n.get_z())\n",
    "                previous.append(n.get_id())\n",
    "                search(n.get_neigbour())\n",
    "search(part.get_neigbour())    \n",
    "ax.scatter(xs, ys, zs, s=500, c='r', marker='.')\n",
    "\n",
    "ax.set_xlabel('X Label')\n",
    "ax.set_ylabel('Y Label')\n",
    "ax.set_zlabel('Z Label')\n",
    "\n",
    "plt.show()"
   ]
  },
  {
   "cell_type": "code",
   "execution_count": null,
   "metadata": {
    "collapsed": false
   },
   "outputs": [],
   "source": [
    "# make recursion bigger\n",
    "import sys\n",
    "sys.setrecursionlimit(10**6)\n",
    "total = []\n",
    "for i in range(len(particles)):\n",
    "    best_route = []\n",
    "    #print(\"********************SEARCHING FOR \" + str(particles[i].get_id()))\n",
    "    part = particles[1]\n",
    "    def search2(this_part, route = []):\n",
    "        neigbours = this_part.get_neigbour()\n",
    "        route.append(this_part.get_id())\n",
    "        for n in neigbours:\n",
    "            if n.get_id() == particles[i].get_id():\n",
    "                route.append(n.get_id())\n",
    "                #print(\"THE ROUTE: \" + str(route))\n",
    "                #print(\"found\")\n",
    "                best_route.append(route)\n",
    "                #return route\n",
    "            if(n.get_id() not in route): \n",
    "                if(len(best_route) > 0):\n",
    "                    if (len(route) < len(best_route[-1])):\n",
    "                        search2(n, route = route)\n",
    "                else:\n",
    "                    search2(n, route = route)\n",
    "        #print(route)\n",
    "        #rint(\"didnt fount any\")\n",
    "        #print(\"The best route \" + str(best_route))\n",
    "        return []\n",
    "    if(len(best_route) > 0):\n",
    "       print(\"Beste route found\" + str(best_route))\n",
    "    routen = search2(part)\n",
    "    total.append(routen)"
   ]
  },
  {
   "cell_type": "code",
   "execution_count": null,
   "metadata": {
    "collapsed": false
   },
   "outputs": [],
   "source": [
    "particles"
   ]
  },
  {
   "cell_type": "code",
   "execution_count": null,
   "metadata": {
    "collapsed": true
   },
   "outputs": [],
   "source": []
  },
  {
   "cell_type": "code",
   "execution_count": null,
   "metadata": {
    "collapsed": true
   },
   "outputs": [],
   "source": [
    "'''\n",
    "Find connectivity through time\n",
    "'''"
   ]
  }
 ],
 "metadata": {
  "kernelspec": {
   "display_name": "Python 3",
   "language": "python",
   "name": "python3"
  },
  "language_info": {
   "codemirror_mode": {
    "name": "ipython",
    "version": 3
   },
   "file_extension": ".py",
   "mimetype": "text/x-python",
   "name": "python",
   "nbconvert_exporter": "python",
   "pygments_lexer": "ipython3",
   "version": "3.5.1"
  }
 },
 "nbformat": 4,
 "nbformat_minor": 0
}
