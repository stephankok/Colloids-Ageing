{
 "cells": [
  {
   "cell_type": "code",
   "execution_count": 1,
   "metadata": {
    "collapsed": false
   },
   "outputs": [
    {
     "data": {
      "text/plain": [
       "'E:\\\\Stephan Bachelorproject\\\\20160627_long_3045.mdb\\\\features overnight\\\\'"
      ]
     },
     "execution_count": 1,
     "metadata": {},
     "output_type": "execute_result"
    }
   ],
   "source": [
    "import pims\n",
    "import matplotlib.pyplot as plt\n",
    "import numpy as np\n",
    "import trackpy as tp\n",
    "import scipy.optimize as optimization\n",
    "import pandas as pd\n",
    "saveloc = \"E:\\\\Stephan Bachelorproject\\\\20160627_long_3045.mdb\\\\features overnight\\\\\"\n",
    "saveloc"
   ]
  },
  {
   "cell_type": "code",
   "execution_count": 2,
   "metadata": {
    "collapsed": true
   },
   "outputs": [],
   "source": [
    "# -*- coding: utf-8 -*-\n",
    "\"\"\"\n",
    "Created on Wed May  4 10:32:39 2016\n",
    "\n",
    "@author: Stephan\n",
    "\"\"\"\n",
    "\n",
    "def center_of_mass(particles):\n",
    "    '''\n",
    "    Calculate the center of mass\n",
    "    All particles have same weigth\n",
    "    '''\n",
    "    total_x = 0\n",
    "    total_y = 0\n",
    "    total_z = 0\n",
    "    count = 0\n",
    "    for index, row in particles.iterrows():\n",
    "        total_x += row['x']\n",
    "        total_y += row['y']\n",
    "        total_z += row['z']\n",
    "        count += 1 \n",
    "    cm_x = total_x / count\n",
    "    cm_y = total_y / count\n",
    "    cm_z = total_z / count\n",
    "    return cm_x, cm_y, cm_z\n",
    "    \n",
    "def radius_of_gyration(particles, cm_x, cm_y, cm_z):   \n",
    "    '''\n",
    "    Calculate radius of gyration as\n",
    "    Rg = sqrt(N / sum(r))\n",
    "    with Rg: radius of gyration\n",
    "    N: amount of particles\n",
    "    r: distance to center of mass\n",
    "    '''\n",
    "    # calculate mean distance\n",
    "    total_sum = 0\n",
    "    count = 0\n",
    "    for index, row in particles.iterrows():\n",
    "        x = row['x'] \n",
    "        y = row['y']\n",
    "        z = row['z']\n",
    "        count += 1\n",
    "        total_sum += (np.sqrt(x**2 + y**2 + z**2) - np.sqrt(cm_x**2 + cm_y**2 + cm_z**2))**2\n",
    "    Rg = np.sqrt(total_sum / count)\n",
    "    return Rg, count \n",
    " \n",
    "def particles_within(particles, radius, ofsetx, ofsety, ofsetz):\n",
    "    '''\n",
    "    Make a circle and find the particles that are inside this circle.\n",
    "    '''\n",
    "    return particles[( ((radius + ofsetx - particles['x'])**2 + (radius + ofsetz - particles['z'])**2 +\n",
    "            (radius + ofsety - particles['y'])**2) < radius**2 )]\n",
    "            \n",
    "    \n",
    "def fractal_fit(x, df, a):\n",
    "    '''\n",
    "    function used to find fractal dimension on a fit with\n",
    "    N; partickles vs Radius of gyration\n",
    "    '''\n",
    "    return np.power(x / a ,df)        \n",
    "    \n",
    "def main(frameNumber): \n",
    "    global pfound  \n",
    "    global Rgs\n",
    "    global Ns\n",
    "    \n",
    "    features = pd.read_pickle(saveloc+ \"features_\" + str(frameNumber) + \".pkl\")\n",
    "    \n",
    "    histList = plt.hist(features['mass'], bins = 1000)\n",
    "    countList = histList[0]\n",
    "    massList = histList[1]\n",
    "\n",
    "    lowest = len(features)\n",
    "    massMinimum = 0\n",
    "    for i in range(0,len(countList)):\n",
    "        # check for upper lowest bound???\n",
    "        if(countList[i] < lowest):\n",
    "            lowest = countList[i]\n",
    "            massMinimum = massList[i]\n",
    "    \n",
    "    features = features[features['mass'] > (massMinimum*0.7)]\n",
    "    plt.clf()\n",
    "    \n",
    "    #print(\"Rezise particles radius\")\n",
    "    features['z'] = (features['z'])*0.6\n",
    "    features['x'] = (features['x'] / 1024)*105.77\n",
    "    features['y'] = (features['y'] / 1024)*105.77        \n",
    "        \n",
    "    #update\n",
    "    #print(\"found \" + str(len(features)) + \" paricles!\")\n",
    "    pfound.append(len(features))\n",
    "\n",
    "    max_radius = int(40*0.6) # Edit this to max z heigth of measurement\n",
    "    \n",
    "    for rad in range(max_radius, 3,-1):\n",
    "        for width in range(-105,105,20):     \n",
    "            ofsetx = max_radius - rad - width#+ ofset_x_start\n",
    "            ofsety = max_radius - rad - width#+ ofset_y_start\n",
    "            ofsetz = max_radius - rad\n",
    "            # in 3d\n",
    "            particles_in_rad = particles_within(features, rad, ofsetx, ofsety, ofsetz)\n",
    " \n",
    "            if(particles_in_rad.empty == False):\n",
    "                \n",
    "                # calculate center of mass\n",
    "                cm_x, cm_y, cm_z = center_of_mass(particles_in_rad)\n",
    "                \n",
    "                # calculate mean distance\n",
    "                Rg, N = radius_of_gyration(particles_in_rad, cm_x, cm_y, cm_z)  \n",
    "            \n",
    "                if(N > 2):\n",
    "                    # only when more then 10 particles\n",
    "                    Rgs.append(Rg)\n",
    "                    Ns.append(N) \n",
    "                    \n",
    "\n"
   ]
  },
  {
   "cell_type": "code",
   "execution_count": 3,
   "metadata": {
    "collapsed": false
   },
   "outputs": [],
   "source": [
    "def fractal_fit(x, df, a):\n",
    "    '''\n",
    "    function used to find fractal dimension on a fit with\n",
    "    N; partickles vs Radius of gyration\n",
    "    '''\n",
    "    return np.power(x / a ,df)\n",
    "\n",
    "pfound = []\n",
    "fits = []\n",
    "foundFractalDim = []\n",
    "RvsN = []\n",
    "\n",
    "for frameNumber in range(0,20):\n",
    "    Rgs = []\n",
    "    Ns = []\n",
    "    main(frameNumber)\n",
    "    fit = optimization.curve_fit(fractal_fit, Rgs, Ns)\n",
    "    fits.append(fit)\n",
    "    RvsN.append([Rgs, Ns, fit[0][0]])\n",
    "    foundFractalDim.append(fit[0][0])\n",
    "\n",
    "plt.clf()\n",
    "plt.figure()\n",
    "for Rgs, Ns, Df in RvsN:\n",
    "    plt.scatter(Rgs, Ns, label = str(Df), c=np.random.rand(3,1))\n",
    "plt.xscale('log')\n",
    "plt.yscale('log')\n",
    "plt.legend()\n",
    "plt.show()"
   ]
  },
  {
   "cell_type": "code",
   "execution_count": 4,
   "metadata": {
    "collapsed": false
   },
   "outputs": [
    {
     "name": "stdout",
     "output_type": "stream",
     "text": [
      "[534, 527, 504, 621, 430, 424, 550, 574, 613, 697, 405, 531, 511, 541, 514, 398, 557, 608, 527, 620]\n",
      "(array([ 2.07819734,  1.30380484]), array([[ 0.14532239,  0.16575168],\n",
      "       [ 0.16575168,  0.19178905]]))\n"
     ]
    }
   ],
   "source": [
    "print(pfound)\n",
    "print(fit)"
   ]
  },
  {
   "cell_type": "code",
   "execution_count": 6,
   "metadata": {
    "collapsed": false
   },
   "outputs": [],
   "source": [
    "plt.scatter(Rgs,Ns)\n",
    "plt.xscale(\"log\")\n",
    "plt.yscale('log')\n",
    "plt.show()"
   ]
  },
  {
   "cell_type": "code",
   "execution_count": 7,
   "metadata": {
    "collapsed": true
   },
   "outputs": [],
   "source": [
    "plt.plot(foundFractalDim)\n",
    "plt.show()"
   ]
  },
  {
   "cell_type": "code",
   "execution_count": 8,
   "metadata": {
    "collapsed": true
   },
   "outputs": [],
   "source": [
    "plt.plot(pfound)\n",
    "plt.show()"
   ]
  },
  {
   "cell_type": "code",
   "execution_count": null,
   "metadata": {
    "collapsed": true
   },
   "outputs": [],
   "source": []
  }
 ],
 "metadata": {
  "kernelspec": {
   "display_name": "Python 3",
   "language": "python",
   "name": "python3"
  },
  "language_info": {
   "codemirror_mode": {
    "name": "ipython",
    "version": 3
   },
   "file_extension": ".py",
   "mimetype": "text/x-python",
   "name": "python",
   "nbconvert_exporter": "python",
   "pygments_lexer": "ipython3",
   "version": "3.5.1"
  }
 },
 "nbformat": 4,
 "nbformat_minor": 0
}
