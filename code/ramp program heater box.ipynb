{
 "cells": [
  {
   "cell_type": "markdown",
   "metadata": {},
   "source": [
    "https://pythonhosted.org/pyserial/\n",
    "\n",
    "input\n",
    "python -m serial.tools.list_ports -v\n",
    "in anconda to view all ports available\n",
    "\n",
    "default communication parameters E5CN-H\n",
    "Communications protocol: CompoWay/F\n",
    "Communications unit number: 1\n",
    "Communications baud rate: 9.6 (kbit/s)\n",
    "Communications data length: 7 (bit)\n",
    "Communications stop bits:   2\n",
    "Communications parity: Even\n",
    "Send data wait time: 20 ms"
   ]
  },
  {
   "cell_type": "code",
   "execution_count": 1,
   "metadata": {
    "collapsed": false
   },
   "outputs": [
    {
     "ename": "SerialException",
     "evalue": "could not open port 'COM4': FileNotFoundError(2, 'Het systeem kan het opgegeven bestand niet vinden.', None, 2)",
     "output_type": "error",
     "traceback": [
      "\u001b[1;31m---------------------------------------------------------------------------\u001b[0m",
      "\u001b[1;31mSerialException\u001b[0m                           Traceback (most recent call last)",
      "\u001b[1;32m<ipython-input-1-04482f2615f0>\u001b[0m in \u001b[0;36m<module>\u001b[1;34m()\u001b[0m\n\u001b[0;32m      1\u001b[0m \u001b[1;32mimport\u001b[0m \u001b[0mserial\u001b[0m\u001b[1;33m\u001b[0m\u001b[0m\n\u001b[1;32m----> 2\u001b[1;33m \u001b[0mser\u001b[0m \u001b[1;33m=\u001b[0m \u001b[0mserial\u001b[0m\u001b[1;33m.\u001b[0m\u001b[0mSerial\u001b[0m\u001b[1;33m(\u001b[0m\u001b[1;34m'COM4'\u001b[0m\u001b[1;33m,\u001b[0m \u001b[1;36m9600\u001b[0m\u001b[1;33m,\u001b[0m \u001b[0mbytesize\u001b[0m\u001b[1;33m=\u001b[0m\u001b[1;36m7\u001b[0m\u001b[1;33m,\u001b[0m \u001b[0mparity\u001b[0m\u001b[1;33m=\u001b[0m\u001b[0mserial\u001b[0m\u001b[1;33m.\u001b[0m\u001b[0mPARITY_EVEN\u001b[0m\u001b[1;33m,\u001b[0m \u001b[0mstopbits\u001b[0m\u001b[1;33m=\u001b[0m\u001b[1;36m2\u001b[0m\u001b[1;33m,\u001b[0m \u001b[0mxonxoff\u001b[0m\u001b[1;33m=\u001b[0m\u001b[1;36m0\u001b[0m\u001b[1;33m,\u001b[0m \u001b[0mrtscts\u001b[0m\u001b[1;33m=\u001b[0m\u001b[1;36m0\u001b[0m\u001b[1;33m,\u001b[0m \u001b[0mtimeout\u001b[0m\u001b[1;33m=\u001b[0m\u001b[1;36m1\u001b[0m\u001b[1;33m)\u001b[0m\u001b[1;33m\u001b[0m\u001b[0m\n\u001b[0m\u001b[0;32m      3\u001b[0m \u001b[0mser\u001b[0m\u001b[1;33m.\u001b[0m\u001b[0mis_open\u001b[0m\u001b[1;33m\u001b[0m\u001b[0m\n",
      "\u001b[1;32mC:\\Anaconda3\\lib\\site-packages\\serial\\serialwin32.py\u001b[0m in \u001b[0;36m__init__\u001b[1;34m(self, *args, **kwargs)\u001b[0m\n\u001b[0;32m     29\u001b[0m         \u001b[0mself\u001b[0m\u001b[1;33m.\u001b[0m\u001b[0m_overlapped_read\u001b[0m \u001b[1;33m=\u001b[0m \u001b[1;32mNone\u001b[0m\u001b[1;33m\u001b[0m\u001b[0m\n\u001b[0;32m     30\u001b[0m         \u001b[0mself\u001b[0m\u001b[1;33m.\u001b[0m\u001b[0m_overlapped_write\u001b[0m \u001b[1;33m=\u001b[0m \u001b[1;32mNone\u001b[0m\u001b[1;33m\u001b[0m\u001b[0m\n\u001b[1;32m---> 31\u001b[1;33m         \u001b[0mSerialBase\u001b[0m\u001b[1;33m.\u001b[0m\u001b[0m__init__\u001b[0m\u001b[1;33m(\u001b[0m\u001b[0mself\u001b[0m\u001b[1;33m,\u001b[0m \u001b[1;33m*\u001b[0m\u001b[0margs\u001b[0m\u001b[1;33m,\u001b[0m \u001b[1;33m**\u001b[0m\u001b[0mkwargs\u001b[0m\u001b[1;33m)\u001b[0m\u001b[1;33m\u001b[0m\u001b[0m\n\u001b[0m\u001b[0;32m     32\u001b[0m \u001b[1;33m\u001b[0m\u001b[0m\n\u001b[0;32m     33\u001b[0m     \u001b[1;32mdef\u001b[0m \u001b[0mopen\u001b[0m\u001b[1;33m(\u001b[0m\u001b[0mself\u001b[0m\u001b[1;33m)\u001b[0m\u001b[1;33m:\u001b[0m\u001b[1;33m\u001b[0m\u001b[0m\n",
      "\u001b[1;32mC:\\Anaconda3\\lib\\site-packages\\serial\\serialutil.py\u001b[0m in \u001b[0;36m__init__\u001b[1;34m(self, port, baudrate, bytesize, parity, stopbits, timeout, xonxoff, rtscts, write_timeout, dsrdtr, inter_byte_timeout, **kwargs)\u001b[0m\n\u001b[0;32m    178\u001b[0m \u001b[1;33m\u001b[0m\u001b[0m\n\u001b[0;32m    179\u001b[0m         \u001b[1;32mif\u001b[0m \u001b[0mport\u001b[0m \u001b[1;32mis\u001b[0m \u001b[1;32mnot\u001b[0m \u001b[1;32mNone\u001b[0m\u001b[1;33m:\u001b[0m\u001b[1;33m\u001b[0m\u001b[0m\n\u001b[1;32m--> 180\u001b[1;33m             \u001b[0mself\u001b[0m\u001b[1;33m.\u001b[0m\u001b[0mopen\u001b[0m\u001b[1;33m(\u001b[0m\u001b[1;33m)\u001b[0m\u001b[1;33m\u001b[0m\u001b[0m\n\u001b[0m\u001b[0;32m    181\u001b[0m \u001b[1;33m\u001b[0m\u001b[0m\n\u001b[0;32m    182\u001b[0m     \u001b[1;31m#  -  -  -  -  -  -  -  -  -  -  -  -  -  -  -  -  -  -  -  -  -  -  -  -\u001b[0m\u001b[1;33m\u001b[0m\u001b[1;33m\u001b[0m\u001b[0m\n",
      "\u001b[1;32mC:\\Anaconda3\\lib\\site-packages\\serial\\serialwin32.py\u001b[0m in \u001b[0;36mopen\u001b[1;34m(self)\u001b[0m\n\u001b[0;32m     60\u001b[0m         \u001b[1;32mif\u001b[0m \u001b[0mself\u001b[0m\u001b[1;33m.\u001b[0m\u001b[0m_port_handle\u001b[0m \u001b[1;33m==\u001b[0m \u001b[0mwin32\u001b[0m\u001b[1;33m.\u001b[0m\u001b[0mINVALID_HANDLE_VALUE\u001b[0m\u001b[1;33m:\u001b[0m\u001b[1;33m\u001b[0m\u001b[0m\n\u001b[0;32m     61\u001b[0m             \u001b[0mself\u001b[0m\u001b[1;33m.\u001b[0m\u001b[0m_port_handle\u001b[0m \u001b[1;33m=\u001b[0m \u001b[1;32mNone\u001b[0m    \u001b[1;31m# 'cause __del__ is called anyway\u001b[0m\u001b[1;33m\u001b[0m\u001b[0m\n\u001b[1;32m---> 62\u001b[1;33m             \u001b[1;32mraise\u001b[0m \u001b[0mSerialException\u001b[0m\u001b[1;33m(\u001b[0m\u001b[1;34m\"could not open port %r: %r\"\u001b[0m \u001b[1;33m%\u001b[0m \u001b[1;33m(\u001b[0m\u001b[0mself\u001b[0m\u001b[1;33m.\u001b[0m\u001b[0mportstr\u001b[0m\u001b[1;33m,\u001b[0m \u001b[0mctypes\u001b[0m\u001b[1;33m.\u001b[0m\u001b[0mWinError\u001b[0m\u001b[1;33m(\u001b[0m\u001b[1;33m)\u001b[0m\u001b[1;33m)\u001b[0m\u001b[1;33m)\u001b[0m\u001b[1;33m\u001b[0m\u001b[0m\n\u001b[0m\u001b[0;32m     63\u001b[0m \u001b[1;33m\u001b[0m\u001b[0m\n\u001b[0;32m     64\u001b[0m         \u001b[1;32mtry\u001b[0m\u001b[1;33m:\u001b[0m\u001b[1;33m\u001b[0m\u001b[0m\n",
      "\u001b[1;31mSerialException\u001b[0m: could not open port 'COM4': FileNotFoundError(2, 'Het systeem kan het opgegeven bestand niet vinden.', None, 2)"
     ]
    }
   ],
   "source": [
    "import serial\n",
    "ser = serial.Serial('COM4', 9600, bytesize=7, parity=serial.PARITY_EVEN, stopbits=2, xonxoff=0, rtscts=0, timeout=1)\n",
    "ser.is_open"
   ]
  },
  {
   "cell_type": "code",
   "execution_count": 6,
   "metadata": {
    "collapsed": false
   },
   "outputs": [],
   "source": [
    "def bcccalc(data):\n",
    "    bcc=data[1]\n",
    "    for i in range(2,len(data)):\n",
    "        bcc=bcc ^ data[i]  \n",
    "    return chr(bcc).encode('UTF-8')\n",
    "\n",
    "def datagen(temp, controller): #enter temp as float st ##.## and controllor as int 1,2 or 3\n",
    "\n",
    "    stx=b'\\x02'\n",
    "    etx=b'\\x03'\n",
    "    subadress=b'00'\n",
    "    SID=b'0'\n",
    "\n",
    "    controllerbit=('0'+str(controller)).encode('UTF-8') #either 01,02,03\n",
    "    command=b'0102C4000000000100000' #for changing the set point of the first bank, which is what you want\n",
    "    temp=int(round(temp*100)) #rounding \n",
    "    hexnmb=hex(temp)[2:].upper().encode('UTF-8')\n",
    "    data=stx+controllerbit+subadress+SID+command+hexnmb+etx\n",
    "    databcc=data+bcccalc(data)\n",
    "    return databcc\n",
    "\n",
    "def changet(temp, controller):\n",
    "    data=datagen(temp,controller)\n",
    "    ser.close()\n",
    "    ser.open()\n",
    "    ser.write(data)\n",
    "    #print(ser.read(40))"
   ]
  },
  {
   "cell_type": "code",
   "execution_count": 8,
   "metadata": {
    "collapsed": false
   },
   "outputs": [],
   "source": [
    "import time\n",
    "\n",
    "def ramp(Tinit,Tend,dT,totaltime):\n",
    "    t00=time.clock()\n",
    "    steps=int(round((Tend-Tinit)/dT))\n",
    "    Trange=[Tinit + i*dT for i in range(0,steps+1)]\n",
    "    print('Trange is given by '+str(Trange))\n",
    "    waittime=totaltime/len(Trange) \n",
    "    print('Waiting time between each step is '+str(waittime))\n",
    "    t0=time.clock()\n",
    "    print('starting at time '+str(int(round(t0))))\n",
    "    for T in Trange:\n",
    "        tnew=time.clock()\n",
    "        print('changing temp at time '+str(int(round(tnew))))\n",
    "        print('difference in time before last change '+str(int(round(tnew-t0))))\n",
    "        print('difference in time before last change not rounded '+str(tnew-t0))\n",
    "        t0=tnew\n",
    "        changet(T,2)\n",
    "        changet(T,3)\n",
    "        tafterchange=time.clock()\n",
    "        tcorrection=tafterchange-t0\n",
    "        print('time it took to change sp '+str(int(round(tafterchange-t0))))\n",
    "        print('time it took to change sp not trounded '+str(tafterchange-t0))\n",
    "        time.sleep(waittime-tcorrection)\n",
    "    print('total time it really took '+ str(time.clock()-t00))"
   ]
  },
  {
   "cell_type": "code",
   "execution_count": 9,
   "metadata": {
    "collapsed": false
   },
   "outputs": [],
   "source": [
    "changet(36.0,3)\n",
    "changet(36.0,2)"
   ]
  },
  {
   "cell_type": "code",
   "execution_count": 10,
   "metadata": {
    "collapsed": false
   },
   "outputs": [
    {
     "name": "stdout",
     "output_type": "stream",
     "text": [
      "Trange is given by [36.5, 36.6, 36.7, 36.8, 36.9, 37.0]\n",
      "Waiting time between each step is 200.0\n",
      "starting at time 82519\n",
      "changing temp at time 82519\n",
      "difference in time before last change 0\n",
      "difference in time before last change not rounded 2.4376276996918023e-05\n",
      "time it took to change sp 0\n",
      "time it took to change sp not trounded 0.24984486852190457\n",
      "changing temp at time 82719\n",
      "difference in time before last change 200\n",
      "difference in time before last change not rounded 200.0041007740947\n",
      "time it took to change sp 0\n",
      "time it took to change sp not trounded 0.28322882183420006\n",
      "changing temp at time 82919\n",
      "difference in time before last change 200\n",
      "difference in time before last change not rounded 199.99233515757078\n",
      "time it took to change sp 0\n",
      "time it took to change sp not trounded 0.2549253978941124\n",
      "changing temp at time 83119\n",
      "difference in time before last change 200\n",
      "difference in time before last change not rounded 200.00550134090008\n",
      "time it took to change sp 0\n",
      "time it took to change sp not trounded 0.26092880459327716\n",
      "changing temp at time 83319\n",
      "difference in time before last change 200\n",
      "difference in time before last change not rounded 200.00002822517126\n",
      "time it took to change sp 0\n",
      "time it took to change sp not trounded 0.2573775658675004\n",
      "changing temp at time 83519\n",
      "difference in time before last change 200\n",
      "difference in time before last change not rounded 200.00445572689932\n",
      "time it took to change sp 0\n",
      "time it took to change sp not trounded 0.26428717136150226\n",
      "total time it really took 1200.0007069120475\n"
     ]
    }
   ],
   "source": [
    "ramp(36.50,37.00,0.1,1200)"
   ]
  },
  {
   "cell_type": "code",
   "execution_count": 11,
   "metadata": {
    "collapsed": false,
    "scrolled": true
   },
   "outputs": [
    {
     "name": "stdout",
     "output_type": "stream",
     "text": [
      "Trange is given by [37.0, 36.5]\n",
      "Waiting time between each step is 250.0\n",
      "starting at time 84971\n",
      "changing temp at time 84971\n",
      "difference in time before last change 0\n",
      "difference in time before last change not rounded 2.3093321942724288e-05\n",
      "time it took to change sp 0\n",
      "time it took to change sp not trounded 0.2599930976575706\n",
      "changing temp at time 85221\n",
      "difference in time before last change 250\n",
      "difference in time before last change not rounded 249.99807341877022\n",
      "time it took to change sp 0\n",
      "time it took to change sp not trounded 0.2595025785412872\n",
      "total time it really took 499.99349067865114\n",
      "Trange is given by [37.0, 36.5]\n",
      "Waiting time between each step is 250.0\n",
      "starting at time 85471\n",
      "changing temp at time 85471\n",
      "difference in time before last change 0\n",
      "difference in time before last change not rounded 2.223800402134657e-05\n",
      "time it took to change sp 0\n",
      "time it took to change sp not trounded 0.25984598469221964\n",
      "changing temp at time 85721\n",
      "difference in time before last change 250\n",
      "difference in time before last change not rounded 250.01275392490788\n",
      "time it took to change sp 0\n",
      "time it took to change sp not trounded 0.27601045015035197\n",
      "total time it really took 500.0089272769983\n",
      "Trange is given by [37.0, 36.5]\n",
      "Waiting time between each step is 250.0\n",
      "starting at time 85971\n",
      "changing temp at time 85971\n",
      "difference in time before last change 0\n",
      "difference in time before last change not rounded 2.052739728242159e-05\n",
      "time it took to change sp 0\n",
      "time it took to change sp not trounded 0.2617768424534006\n",
      "changing temp at time 86221\n",
      "difference in time before last change 250\n",
      "difference in time before last change not rounded 249.98891435330734\n",
      "time it took to change sp 0\n",
      "time it took to change sp not trounded 0.285267448387458\n",
      "total time it really took 499.9885260434967\n"
     ]
    }
   ],
   "source": [
    "ramp(37.00,36.50,-0.50,500)\n",
    "ramp(37.00,36.50,-0.50,500)\n",
    "ramp(37.00,36.50,-0.50,500)"
   ]
  },
  {
   "cell_type": "code",
   "execution_count": null,
   "metadata": {
    "collapsed": true
   },
   "outputs": [],
   "source": []
  }
 ],
 "metadata": {
  "kernelspec": {
   "display_name": "Python 3",
   "language": "python",
   "name": "python3"
  },
  "language_info": {
   "codemirror_mode": {
    "name": "ipython",
    "version": 3
   },
   "file_extension": ".py",
   "mimetype": "text/x-python",
   "name": "python",
   "nbconvert_exporter": "python",
   "pygments_lexer": "ipython3",
   "version": "3.4.4"
  }
 },
 "nbformat": 4,
 "nbformat_minor": 0
}
